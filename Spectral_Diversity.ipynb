{
 "cells": [
  {
   "cell_type": "code",
   "execution_count": null,
   "id": "9afef62a",
   "metadata": {},
   "outputs": [],
   "source": [
    "import geopandas as gpd\n",
    "import pandas as pd\n",
    "import geopandas as gpd\n",
    "import rioxarray as rxr\n",
    "import xarray as xr\n",
    "import numpy as np\n",
    "import rasterio\n",
    "import math"
   ]
  },
  {
   "cell_type": "markdown",
   "id": "ce81045e",
   "metadata": {},
   "source": [
    "### Refinement of Agricultural Plot Data"
   ]
  },
  {
   "cell_type": "code",
   "execution_count": null,
   "id": "c1cbc030",
   "metadata": {},
   "outputs": [],
   "source": [
    "# Load plot- and mowing classification files:\n",
    "\n",
    "mow_class = rxr.open_rasterio(\"mow_class\") # a list of binary mowing classification files for the lower Engadine for each Sentinel-2 overflight in Summer 2018\n",
    "mow_class_dates = os.listdir(\"mow_class\") # retrieves the names of the respective files\n",
    "\n",
    "agri_plots = gpd.read_file(\"agri_plot_engadine.gpkg\") # contains the agricultural plot data of the Canton of Grisons"
   ]
  },
  {
   "cell_type": "code",
   "execution_count": null,
   "id": "4608a4f1",
   "metadata": {},
   "outputs": [],
   "source": [
    "# checking each plot whether for the median value of the binary mowing classification within the plot\n",
    "\n",
    "for i in range(len(mow_class)):   # itterating over the list containig the mowing classification for each date     \n",
    "        bin_list_per_area = []    # providing an empty list to store the median value of each plot \n",
    "    \n",
    "        for j in range(len(agri_plots)):        \n",
    "            if agri_plots.iloc[j:j+1, :] is None: # check if data within plot\n",
    "                continue\n",
    "            else:\n",
    "                clipped = mow_class[i].rio.clip(agri_plots.iloc[j:j+1, :].geometry, NF.crs, all_touched=True ) # clip the mowing classification file to the extent of the plot\n",
    "                m = clipped.median(skipna=True).values # claculate the median value\n",
    "        \n",
    "            bin_list_per_area.append(int(m)) # appending the median value to the list\n",
    "    \n",
    "        agri_plots[f\"{dates[i]}\"] = bin_list_per_area # saving the list with the median values as new collumn in the plot dataset."
   ]
  },
  {
   "cell_type": "code",
   "execution_count": null,
   "id": "3537323a",
   "metadata": {},
   "outputs": [],
   "source": [
    "# get first mowing for each plot (first time value = 1 at each plot)\n",
    "dates = ['2018-06-01','2018-06-03','2018-06-06','2018-06-08','2018-06-11','2018-06-13','2018-06-16','2018-06-18','2018-06-21','2018-06-23','2018-06-26','2018-06-28','2018-07-01','2018-07-03','2018-07-06','2018-07-08','2018-07-11','2018-07-13','2018-07-16','2018-07-18','2018-07-21','2018-07-23','2018-07-26','2018-07-28','2018-07-31']\n",
    "# list of possible dates\n",
    "\n",
    "agri_plots[\"mowed_first\"] = \"\" # providing empty collumn to store the date of the first mowing\n",
    "\n",
    "for index, row_tuple in agri_plots.iterrows():   # iterate over the plots and find the respective first date of mowing\n",
    "    for date in dates:\n",
    "        if row_tuple[date] == 1:\n",
    "            agri_plots.loc[index:index+1, \"mowed_first\"] = date"
   ]
  },
  {
   "cell_type": "code",
   "execution_count": null,
   "id": "00ac7678",
   "metadata": {},
   "outputs": [],
   "source": [
    "# create the merging criterion by combining the date of the first mowing and the management type\n",
    "agri_plots[\"merge_crit\"] = agri_plots[\"nutzung_de\"] + \": \" + agri_plots[\"mowed_first\"]"
   ]
  },
  {
   "cell_type": "code",
   "execution_count": null,
   "id": "36453424",
   "metadata": {},
   "outputs": [],
   "source": [
    "# merge areas when they touch each other and the merging criterion is equal\n",
    "merge_crit_list = agri_plots[\"merge_crit\"].values.tolist() # retrieve all \"merge_crit\"-values from list\n",
    "merge_crit_list = list( dict.fromkeys(merge_crit_list)) # delete duplicates from the list\n",
    "\n",
    "for i in range(len(merge_crit_list)):    \n",
    "    cat_polys = agri_plots.loc[agri_plots['merge_crit'] == merge_crit_list[i]] # select all polys with same \"merge_crit\"-value\n",
    "    cat_merged = cat_polys.dissolve().explode() # unionize the ones that touch each other\n",
    "    \n",
    "    for index, poly in cat_merged.iterrows(): # save to new data frame\n",
    "        new_df.append({'nutzung_de': poly['nutzung_de'], 'mowed_first': poly['mowed_first'], 'merge_crit': poly['merge_crit'], 'geometry': poly['geometry']})\n",
    "\n",
    "    agri_plots_merged = gpd.GeoDataFrame(new_df)"
   ]
  },
  {
   "cell_type": "markdown",
   "id": "1a0ed1fc",
   "metadata": {},
   "source": [
    "### Calculation of the Spectral Metrics (on AVIRIS-NG PCs)"
   ]
  },
  {
   "cell_type": "code",
   "execution_count": null,
   "id": "002e8647",
   "metadata": {},
   "outputs": [],
   "source": [
    "ang_PC_data = rxr.open_rasterio('ang_PCs.tiff') # load AVIRIS-NG dataset containing the PCs"
   ]
  },
  {
   "cell_type": "code",
   "execution_count": null,
   "id": "46df28c7",
   "metadata": {},
   "outputs": [],
   "source": [
    "# preparing a function which allows to calculate the spectral diversity metrics for AVIRIS-NG PCs\n",
    "crs = 'epsg:2056'\n",
    "\n",
    "def aviris_var_cv(ang_data, agri_plots):\n",
    "    column_name_var = 'VAR'\n",
    "    column_name_CV = 'CV'\n",
    "      \n",
    "    for i in range(len(agri_plots)): # iterating over the refined plot dataset\n",
    "        list_var = [] # preparing lists to store the spectral diversity values. This allows to calculate an average value when all layers are analyzed.\n",
    "        list_cv = []\n",
    "        index = NF.iloc[i:i+1, :].index\n",
    "                \n",
    "        for j in range(len(ang_data)):    \n",
    "            try: \n",
    "                clipped_raster = ang_data[j].rio.clip(agri_plots.iloc[i:i+1, :].geometry, crs=crs, invert=False) # clip PC-raster dataset with a single plot\n",
    "                    \n",
    "            except rxr.exceptions.NoDataInBounds: # exception needed to be built in because an error ocurred when the clipped raster was empty\n",
    "                continue                    \n",
    "\n",
    "            var = clipped_raster.var() # calculating the variance within a plot of one PC\n",
    "            variance_val = var.values\n",
    "            list_var.append(variance_val) \n",
    "            \n",
    "            std = clipped_raster.std() # calculating the CV within a plot of one PC\n",
    "            avg = clipped_raster.mean()\n",
    "            cv = std / avg\n",
    "            list_cv.append(cv.values)\n",
    "            \n",
    "        agri_plots.loc[index, column_name_var] = round(np.mean(list_var), 10) # calculating the average variance value for each respective plot and saving in the dataframe\n",
    "        agri_plots.loc[index, column_name_CV] = round(np.mean(list_cv), 10) # calculating the average CV value for each respective plot and saving in the dataframe\n",
    "\n",
    "    return agri_plots"
   ]
  },
  {
   "cell_type": "code",
   "execution_count": null,
   "id": "272cefcd",
   "metadata": {},
   "outputs": [],
   "source": [
    "# Calculating the diversity metrics for the three first PCs\n",
    "ang_spectral_diversity_3PCs = aviris_var_cv(ang_PC_data[:3], agri_plots_merged)"
   ]
  },
  {
   "cell_type": "code",
   "execution_count": 1,
   "id": "d616e6dd",
   "metadata": {},
   "outputs": [
    {
     "ename": "NameError",
     "evalue": "name 'rxr' is not defined",
     "output_type": "error",
     "traceback": [
      "\u001b[0;31m---------------------------------------------------------------------------\u001b[0m",
      "\u001b[0;31mNameError\u001b[0m                                 Traceback (most recent call last)",
      "Input \u001b[0;32mIn [1]\u001b[0m, in \u001b[0;36m<cell line: 2>\u001b[0;34m()\u001b[0m\n\u001b[1;32m      1\u001b[0m \u001b[38;5;66;03m# Calculating the diversity metrics for the NDVI of AVIRIS-NG\u001b[39;00m\n\u001b[0;32m----> 2\u001b[0m ang_NDVI_bands \u001b[38;5;241m=\u001b[39m \u001b[43mrxr\u001b[49m\u001b[38;5;241m.\u001b[39mopen_rasterio(\u001b[38;5;124m\"\u001b[39m\u001b[38;5;124mang_NDVI_bands.tiff\u001b[39m\u001b[38;5;124m\"\u001b[39m)\n\u001b[1;32m      4\u001b[0m b57 \u001b[38;5;241m=\u001b[39m ang_NDVI_bands[\u001b[38;5;241m0\u001b[39m]\n\u001b[1;32m      5\u001b[0m b91 \u001b[38;5;241m=\u001b[39m ang_NDVI_bands[\u001b[38;5;241m1\u001b[39m]\n",
      "\u001b[0;31mNameError\u001b[0m: name 'rxr' is not defined"
     ]
    }
   ],
   "source": [
    "# Calculating the diversity metrics for the NDVI of AVIRIS-NG\n",
    "ang_NDVI_bands = rxr.open_rasterio(\"ang_NDVI_bands.tiff\")\n",
    "\n",
    "b57 = ang_NDVI_bands[0]\n",
    "b91 = ang_NDVI_bands[1]\n",
    "ndvi = (b91 - b57) / (b91 + b57) # Calculate NDVI\n",
    "\n",
    "ang_spectral_diversity_NDVI = aviris_var_cv(ndvi, agri_plots_merged)"
   ]
  },
  {
   "cell_type": "markdown",
   "id": "f03bd342",
   "metadata": {},
   "source": [
    "#### Spectral Diversity Calculations for SwissImage RS and Sentinel-2\n",
    "The spectral diversity of the Sentinel-2 products is calculated in the same way. For SwissImage RS, the calculation must be split between the SwissImage RS image tiles, but then it is the same again.\n",
    "\n",
    "Many other programming steps (data preparation, refinement, analysis and visualization) were required for this work. However, these two steps of data analysis were the core of the work and are therefore presented here."
   ]
  }
 ],
 "metadata": {
  "kernelspec": {
   "display_name": "miniconda3",
   "language": "python",
   "name": "miniconda3"
  },
  "language_info": {
   "codemirror_mode": {
    "name": "ipython",
    "version": 3
   },
   "file_extension": ".py",
   "mimetype": "text/x-python",
   "name": "python",
   "nbconvert_exporter": "python",
   "pygments_lexer": "ipython3",
   "version": "3.9.13"
  }
 },
 "nbformat": 4,
 "nbformat_minor": 5
}
